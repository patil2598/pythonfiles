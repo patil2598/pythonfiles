{
 "cells": [
  {
   "cell_type": "code",
   "execution_count": 1,
   "metadata": {},
   "outputs": [],
   "source": [
    "students = ['suresh','ramya','yasmeen','nihar','tarun','sneha']"
   ]
  },
  {
   "cell_type": "code",
   "execution_count": 2,
   "metadata": {},
   "outputs": [
    {
     "name": "stdout",
     "output_type": "stream",
     "text": [
      "['suresh', 'ramya', 'yasmeen', 'nihar', 'tarun', 'sneha']\n"
     ]
    }
   ],
   "source": [
    "print(students)"
   ]
  },
  {
   "cell_type": "code",
   "execution_count": 3,
   "metadata": {},
   "outputs": [],
   "source": [
    "## Appreciating all of the above.\n",
    "## Looking forward to recieve the files today"
   ]
  },
  {
   "cell_type": "code",
   "execution_count": 5,
   "metadata": {},
   "outputs": [
    {
     "name": "stdout",
     "output_type": "stream",
     "text": [
      "Suresh\n",
      "Ramya\n",
      "Yasmeen\n",
      "Nihar\n",
      "Tarun\n",
      "Sneha\n"
     ]
    }
   ],
   "source": [
    "for x in students:\n",
    "    print(x.title())"
   ]
  },
  {
   "cell_type": "code",
   "execution_count": 6,
   "metadata": {},
   "outputs": [],
   "source": [
    "#enhancement of the code to suit the requirement"
   ]
  },
  {
   "cell_type": "code",
   "execution_count": 11,
   "metadata": {},
   "outputs": [
    {
     "name": "stdout",
     "output_type": "stream",
     "text": [
      "Keep up the good work, Suresh.\n",
      "I am looking forward to view the files today, Suresh.\n",
      "Keep up the good work, Ramya.\n",
      "I am looking forward to view the files today, Ramya.\n",
      "Keep up the good work, Yasmeen.\n",
      "I am looking forward to view the files today, Yasmeen.\n",
      "Keep up the good work, Nihar.\n",
      "I am looking forward to view the files today, Nihar.\n",
      "Keep up the good work, Tarun.\n",
      "I am looking forward to view the files today, Tarun.\n",
      "Keep up the good work, Sneha.\n",
      "I am looking forward to view the files today, Sneha.\n"
     ]
    }
   ],
   "source": [
    "for x in students:\n",
    "    print(f\"Keep up the good work, {x.title()}.\")\n",
    "    print(f\"I am looking forward to view the files today, {x.title()}.\")"
   ]
  },
  {
   "cell_type": "code",
   "execution_count": 12,
   "metadata": {},
   "outputs": [],
   "source": [
    "#presenting in better way "
   ]
  },
  {
   "cell_type": "code",
   "execution_count": 13,
   "metadata": {},
   "outputs": [
    {
     "name": "stdout",
     "output_type": "stream",
     "text": [
      "Keep up the good work, Suresh.\n",
      "I am looking forward to view the files today, Suresh.\n",
      "\n",
      "Keep up the good work, Ramya.\n",
      "I am looking forward to view the files today, Ramya.\n",
      "\n",
      "Keep up the good work, Yasmeen.\n",
      "I am looking forward to view the files today, Yasmeen.\n",
      "\n",
      "Keep up the good work, Nihar.\n",
      "I am looking forward to view the files today, Nihar.\n",
      "\n",
      "Keep up the good work, Tarun.\n",
      "I am looking forward to view the files today, Tarun.\n",
      "\n",
      "Keep up the good work, Sneha.\n",
      "I am looking forward to view the files today, Sneha.\n",
      "\n"
     ]
    }
   ],
   "source": [
    "for x in students:\n",
    "    print(f\"Keep up the good work, {x.title()}.\")\n",
    "    print(f\"I am looking forward to view the files today, {x.title()}.\\n\")"
   ]
  },
  {
   "cell_type": "code",
   "execution_count": 14,
   "metadata": {},
   "outputs": [],
   "source": [
    "##further requirement \n",
    "## generic message thanks for attending to all participants."
   ]
  },
  {
   "cell_type": "code",
   "execution_count": 15,
   "metadata": {},
   "outputs": [
    {
     "name": "stdout",
     "output_type": "stream",
     "text": [
      "Keep up the good work, Suresh.\n",
      "I am looking forward to view the files today, Suresh.\n",
      "\n",
      "Keep up the good work, Ramya.\n",
      "I am looking forward to view the files today, Ramya.\n",
      "\n",
      "Keep up the good work, Yasmeen.\n",
      "I am looking forward to view the files today, Yasmeen.\n",
      "\n",
      "Keep up the good work, Nihar.\n",
      "I am looking forward to view the files today, Nihar.\n",
      "\n",
      "Keep up the good work, Tarun.\n",
      "I am looking forward to view the files today, Tarun.\n",
      "\n",
      "Keep up the good work, Sneha.\n",
      "I am looking forward to view the files today, Sneha.\n",
      "\n",
      "Thank you all for joining the session.\n"
     ]
    }
   ],
   "source": [
    "for x in students:\n",
    "    print(f\"Keep up the good work, {x.title()}.\")\n",
    "    print(f\"I am looking forward to view the files today, {x.title()}.\\n\")\n",
    "print(\"Thank you all for joining the session.\") ##this line is outside the loop"
   ]
  },
  {
   "cell_type": "code",
   "execution_count": 16,
   "metadata": {},
   "outputs": [],
   "source": [
    "##if else condition"
   ]
  },
  {
   "cell_type": "code",
   "execution_count": 17,
   "metadata": {},
   "outputs": [],
   "source": [
    "my_students = ['rahul','nilesh','sahana','rohini','maneesh','dinesh']"
   ]
  },
  {
   "cell_type": "code",
   "execution_count": 19,
   "metadata": {},
   "outputs": [],
   "source": [
    "## when nilesh is coming in list print his name in all capital letters.\n",
    "## all others except nilesh print in title case."
   ]
  },
  {
   "cell_type": "code",
   "execution_count": 20,
   "metadata": {},
   "outputs": [
    {
     "name": "stdout",
     "output_type": "stream",
     "text": [
      "Rahul\n",
      "NILESH\n",
      "Sahana\n",
      "Rohini\n",
      "Maneesh\n",
      "Dinesh\n"
     ]
    }
   ],
   "source": [
    "for y in my_students:\n",
    "    if y == 'nilesh':\n",
    "        print(y.upper())\n",
    "    else:\n",
    "        print(y.title())"
   ]
  },
  {
   "cell_type": "code",
   "execution_count": 21,
   "metadata": {},
   "outputs": [],
   "source": [
    "##Introduction to slicing of lists"
   ]
  },
  {
   "cell_type": "code",
   "execution_count": 22,
   "metadata": {},
   "outputs": [],
   "source": [
    "my_students = ['rahul','nilesh','sahana','rohini','maneesh','dinesh']"
   ]
  },
  {
   "cell_type": "code",
   "execution_count": 29,
   "metadata": {},
   "outputs": [],
   "source": [
    "##to include rahul and nilesh in single group "
   ]
  },
  {
   "cell_type": "code",
   "execution_count": 33,
   "metadata": {},
   "outputs": [
    {
     "name": "stdout",
     "output_type": "stream",
     "text": [
      "['rahul']\n",
      "['rahul', 'nilesh']\n"
     ]
    }
   ],
   "source": [
    "print(my_students[0:1])\n",
    "print(my_students[0:2])"
   ]
  },
  {
   "cell_type": "raw",
   "metadata": {},
   "source": [
    "print(my_students[0:1])"
   ]
  },
  {
   "cell_type": "code",
   "execution_count": 37,
   "metadata": {},
   "outputs": [
    {
     "name": "stdout",
     "output_type": "stream",
     "text": [
      "['rahul', 'sahana']\n"
     ]
    }
   ],
   "source": [
    "print(my_students[0:4:2])"
   ]
  },
  {
   "cell_type": "code",
   "execution_count": null,
   "metadata": {},
   "outputs": [],
   "source": []
  }
 ],
 "metadata": {
  "kernelspec": {
   "display_name": "Python 3",
   "language": "python",
   "name": "python3"
  },
  "language_info": {
   "codemirror_mode": {
    "name": "ipython",
    "version": 3
   },
   "file_extension": ".py",
   "mimetype": "text/x-python",
   "name": "python",
   "nbconvert_exporter": "python",
   "pygments_lexer": "ipython3",
   "version": "3.7.6"
  }
 },
 "nbformat": 4,
 "nbformat_minor": 4
}
